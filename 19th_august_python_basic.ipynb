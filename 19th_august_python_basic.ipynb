{
 "cells": [
  {
   "cell_type": "code",
   "execution_count": null,
   "id": "fdf96107-47c6-434f-8427-3bc6126732bd",
   "metadata": {},
   "outputs": [],
   "source": [
    "TOPIC: PYTHON BASIC VARIABLE"
   ]
  },
  {
   "cell_type": "code",
   "execution_count": null,
   "id": "3e235acd-e80a-4ef7-9807-f3848f2a0e19",
   "metadata": {},
   "outputs": [],
   "source": [
    "1. Declare two variables, `x` and `y`, and assign them integer values. Swap the\n",
    "values of these variables without using any temporary variable."
   ]
  },
  {
   "cell_type": "code",
   "execution_count": 1,
   "id": "3460adc4-0e29-466b-9ff5-3c2aa79b674d",
   "metadata": {},
   "outputs": [
    {
     "name": "stdout",
     "output_type": "stream",
     "text": [
      "x= 90\n",
      "y= 50\n"
     ]
    }
   ],
   "source": [
    "x=50\n",
    "y=90\n",
    "x=x+y\n",
    "y=x-y\n",
    "x=x-y\n",
    "print(\"x=\",x)\n",
    "print(\"y=\",y)\n"
   ]
  },
  {
   "cell_type": "code",
   "execution_count": null,
   "id": "6d16eaae-18e4-4d02-a6ec-185f7bd06c7d",
   "metadata": {},
   "outputs": [],
   "source": [
    "2.Create a program that calculates the area of a rectangle. Take the length and\n",
    "width as inputs from the user and store them in variables. Calculate and\n",
    "display the area.\n"
   ]
  },
  {
   "cell_type": "code",
   "execution_count": 4,
   "id": "2fb7aae3-81d3-48f1-8a52-b0dda58e92c0",
   "metadata": {},
   "outputs": [
    {
     "name": "stdin",
     "output_type": "stream",
     "text": [
      "enter the value of length 45.2\n",
      "enter the value of breadth 15.1\n"
     ]
    },
    {
     "name": "stdout",
     "output_type": "stream",
     "text": [
      "the area of rectange = 682.52\n"
     ]
    }
   ],
   "source": [
    "length=float(input(\"enter the value of length\")) # take length as input\n",
    "width=float(input(\"enter the value of breadth\"))  # take breadth as input\n",
    "area = length * width\n",
    "print(\"the area of rectange =\",area)\n"
   ]
  },
  {
   "cell_type": "code",
   "execution_count": null,
   "id": "f41994c4-8690-4ad2-ad6a-7776f5f0f6b3",
   "metadata": {},
   "outputs": [],
   "source": [
    "3. Write a Python program that converts temperatures from Celsius to\n",
    "Fahrenheit. Take the temperature in Celsius as input, store it in a variable,\n",
    "convert it to Fahrenheit, and display the result."
   ]
  },
  {
   "cell_type": "code",
   "execution_count": 5,
   "id": "11282865-fcb8-44b9-adf8-1f2ee4f6ac3c",
   "metadata": {},
   "outputs": [
    {
     "name": "stdin",
     "output_type": "stream",
     "text": [
      "enter the temperature in celsius 24\n"
     ]
    },
    {
     "name": "stdout",
     "output_type": "stream",
     "text": [
      "temperature in fahrenheit 75.2\n"
     ]
    }
   ],
   "source": [
    "celsius=float(input(\"enter the temperature in celsius\")) #take temperature in celsius as input\n",
    "fahrenheit= (celsius*1.8)+32       # to convert celcius to fahrenhiet\n",
    "print(\"temperature in fahrenheit\",fahrenheit) #to print temperature fahrenheit  as output"
   ]
  },
  {
   "cell_type": "code",
   "execution_count": null,
   "id": "77a4b0c0-73b1-4c9c-b9b4-3d89f7ae01c5",
   "metadata": {},
   "outputs": [],
   "source": [
    "TOPIC: STRING BASED QUESTIONS."
   ]
  },
  {
   "cell_type": "code",
   "execution_count": null,
   "id": "99fe6a41-229e-4b63-92e0-43594dc39d91",
   "metadata": {},
   "outputs": [],
   "source": [
    "Write a Python program that takes a string as input and prints the length of\n",
    "the string."
   ]
  },
  {
   "cell_type": "code",
   "execution_count": 7,
   "id": "b35c8e73-60b0-413a-8825-b13787bf47a8",
   "metadata": {},
   "outputs": [
    {
     "name": "stdin",
     "output_type": "stream",
     "text": [
      "enter the value of string RAM\n"
     ]
    },
    {
     "name": "stdout",
     "output_type": "stream",
     "text": [
      "length of string is = 3\n"
     ]
    }
   ],
   "source": [
    "x= str(input(\"enter the value of string\")) #take string as input\n",
    "length_string=len(x)\n",
    "print(\"length of string is =\",length_string)  #length of string"
   ]
  },
  {
   "cell_type": "code",
   "execution_count": null,
   "id": "bb1de7bc-eec4-4c70-a3a7-2696c6662456",
   "metadata": {},
   "outputs": [],
   "source": [
    "2. Create a program that takes a sentence from the user and counts the number\n",
    "of vowels (a, e, i, o, u) in the string."
   ]
  },
  {
   "cell_type": "code",
   "execution_count": 10,
   "id": "d9f085fd-2094-4c72-b2c3-3fadd3312c95",
   "metadata": {},
   "outputs": [
    {
     "name": "stdin",
     "output_type": "stream",
     "text": [
      "Enter a sentence:  a,e,i,o,u\n"
     ]
    },
    {
     "name": "stdout",
     "output_type": "stream",
     "text": [
      "Number of vowels: 5\n"
     ]
    }
   ],
   "source": [
    "sentence = input(\"Enter a sentence: \") # take sentence as input.\n",
    "vowel_count = 0\n",
    "for char in sentence:\n",
    "    \n",
    "    char_lower = char.lower()\n",
    "    \n",
    "    if char_lower in \"aeiou\":\n",
    "            \n",
    "        vowel_count += 1\n",
    "\n",
    "print(\"Number of vowels:\", vowel_count) "
   ]
  },
  {
   "cell_type": "code",
   "execution_count": null,
   "id": "7c56312e-c55f-48c2-9ff1-0597172382bf",
   "metadata": {},
   "outputs": [],
   "source": [
    "3.Given a string, reverse the order of characters using string slicing and print\n",
    "the reversed string."
   ]
  },
  {
   "cell_type": "code",
   "execution_count": 12,
   "id": "6118710f-61ac-4f96-87f6-b72e88ff222f",
   "metadata": {},
   "outputs": [
    {
     "name": "stdin",
     "output_type": "stream",
     "text": [
      "Enter the string HARSHA\n"
     ]
    },
    {
     "name": "stdout",
     "output_type": "stream",
     "text": [
      "reverse the string= AHSRAH\n"
     ]
    }
   ],
   "source": [
    "x= input(\"Enter the string\")\n",
    "reverse=x[::-1]\n",
    "print(\"reverse the string=\",reverse)"
   ]
  },
  {
   "cell_type": "code",
   "execution_count": null,
   "id": "6357988b-c135-44d1-8d0b-c74534e82e87",
   "metadata": {},
   "outputs": [],
   "source": [
    "4. Write a program that takes a string as input and checks if it is a palindrome\n",
    "(reads the same forwards and backwards)."
   ]
  },
  {
   "cell_type": "code",
   "execution_count": 13,
   "id": "206839ed-76ca-427c-b80c-57c2885edb36",
   "metadata": {},
   "outputs": [
    {
     "name": "stdin",
     "output_type": "stream",
     "text": [
      "Enter a string:  SUNNY\n"
     ]
    },
    {
     "name": "stdout",
     "output_type": "stream",
     "text": [
      "The input string is not a palindrome.\n"
     ]
    }
   ],
   "source": [
    "s= input(\"Enter a string: \") #take string as input\n",
    "\n",
    "y = s.replace(\" \", \"\").lower()\n",
    "\n",
    "reversed_string =y[::-1]\n",
    "\n",
    "if y == reversed_string:\n",
    "    \n",
    "    print(\"The input string is a palindrome.\")\n",
    "else:\n",
    "    \n",
    "    print(\"The input string is not a palindrome.\")"
   ]
  },
  {
   "cell_type": "code",
   "execution_count": null,
   "id": "702a9ebb-fc2f-4260-9fbf-66f11071407d",
   "metadata": {},
   "outputs": [],
   "source": [
    "5. Create a program that takes a string as input and removes all the spaces from\n",
    "it. Print the modified string without spaces."
   ]
  },
  {
   "cell_type": "code",
   "execution_count": 15,
   "id": "84d8b5f9-73f6-4fe7-90fc-c2f8e5c00afd",
   "metadata": {},
   "outputs": [
    {
     "name": "stdin",
     "output_type": "stream",
     "text": [
      "Enter a string:  \"  kartik  \"\n"
     ]
    },
    {
     "name": "stdout",
     "output_type": "stream",
     "text": [
      "Modified string without spaces: \"kartik\"\n"
     ]
    }
   ],
   "source": [
    "x= input(\"Enter a string: \") # take string as input\n",
    "y = \"\"\n",
    "for char in x:\n",
    "    # Step 4: Check if the character is not a space\n",
    "    if char != \" \":\n",
    "        \n",
    "        y+= char\n",
    "\n",
    "# Step 6: Print the modified string without spaces\n",
    "print(\"Modified string without spaces:\", y)"
   ]
  },
  {
   "cell_type": "code",
   "execution_count": null,
   "id": "285ee5ad-5af8-4caa-aa6b-4c39e330e4cb",
   "metadata": {},
   "outputs": [],
   "source": []
  }
 ],
 "metadata": {
  "kernelspec": {
   "display_name": "Python 3 (ipykernel)",
   "language": "python",
   "name": "python3"
  },
  "language_info": {
   "codemirror_mode": {
    "name": "ipython",
    "version": 3
   },
   "file_extension": ".py",
   "mimetype": "text/x-python",
   "name": "python",
   "nbconvert_exporter": "python",
   "pygments_lexer": "ipython3",
   "version": "3.10.8"
  }
 },
 "nbformat": 4,
 "nbformat_minor": 5
}
